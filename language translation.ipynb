{
 "cells": [
  {
   "cell_type": "code",
   "execution_count": 80,
   "metadata": {},
   "outputs": [],
   "source": [
    "import pandas as pd\n",
    "import numpy as np\n",
    "import matplotlib.pyplot as plt\n",
    "import seaborn as sns\n",
    "from tensorflow.keras.preprocessing.text import one_hot\n",
    "from tensorflow.keras.preprocessing.sequence import pad_sequences"
   ]
  },
  {
   "cell_type": "code",
   "execution_count": 4,
   "metadata": {},
   "outputs": [
    {
     "name": "stderr",
     "output_type": "stream",
     "text": [
      "C:\\Users\\ajay\\Anaconda3\\lib\\site-packages\\ipykernel_launcher.py:1: ParserWarning: Falling back to the 'python' engine because the 'c' engine does not support regex separators (separators > 1 char and different from '\\s+' are interpreted as regex); you can avoid this warning by specifying engine='python'.\n",
      "  \"\"\"Entry point for launching an IPython kernel.\n"
     ]
    }
   ],
   "source": [
    "#data=pd.read_csv('language translation/fra.txt',sep='/n',encoding='utf-8')"
   ]
  },
  {
   "cell_type": "code",
   "execution_count": 5,
   "metadata": {},
   "outputs": [
    {
     "data": {
      "text/plain": [
       "Go.\\tVa !\\tCC-BY 2.0 (France) Attribution: tatoeba.org #2877272 (CM) & #1158250 (Wittydev)    Hi.\\tSalut !\\tCC-BY 2.0 (France) Attribution: ...\n",
       "Name: 0, dtype: object"
      ]
     },
     "execution_count": 5,
     "metadata": {},
     "output_type": "execute_result"
    }
   ],
   "source": [
    "#data.iloc[0]"
   ]
  },
  {
   "cell_type": "code",
   "execution_count": 33,
   "metadata": {},
   "outputs": [],
   "source": [
    "file=open('language translation/fra.txt','r')\n",
    "lines=file.read().split('\\n')"
   ]
  },
  {
   "cell_type": "code",
   "execution_count": 5,
   "metadata": {},
   "outputs": [
    {
     "data": {
      "text/plain": [
       "['She takes care of my children.',\n",
       " \"Elle s'occupe de mes enfants.\",\n",
       " 'CC-BY 2.0 (France) Attribution: tatoeba.org #309970 (CK) & #181079 (Romira)']"
      ]
     },
     "execution_count": 5,
     "metadata": {},
     "output_type": "execute_result"
    }
   ],
   "source": [
    "lines[100000].split('\\t')"
   ]
  },
  {
   "cell_type": "code",
   "execution_count": 6,
   "metadata": {},
   "outputs": [],
   "source": [
    "num_samples=20000"
   ]
  },
  {
   "cell_type": "code",
   "execution_count": 17,
   "metadata": {},
   "outputs": [],
   "source": [
    "input_texts=[]\n",
    "target_texts=[]\n",
    "input_characters=set()\n",
    "target_characters=set()\n",
    "for line in lines[:num_samples]:\n",
    "    input_text,target_text,_=line.split('\\t')\n",
    "    target_text = \"\\t\" + target_text + \"\\n\"\n",
    "    input_texts.append(input_text)\n",
    "    target_texts.append(target_text)\n",
    "    for char in input_text:\n",
    "        if char not in input_characters:\n",
    "            input_characters.add(char)\n",
    "    for char in target_text:\n",
    "        if char not in target_characters:\n",
    "            target_characters.add(char)\n",
    "            "
   ]
  },
  {
   "cell_type": "code",
   "execution_count": 18,
   "metadata": {},
   "outputs": [],
   "source": [
    "input_characters=sorted(list(input_characters))\n",
    "target_characters=sorted(list(target_characters))"
   ]
  },
  {
   "cell_type": "code",
   "execution_count": 19,
   "metadata": {},
   "outputs": [],
   "source": [
    "num_encoder_tokens=len(input_characters)\n",
    "num_decoder_tokens=len(target_characters)"
   ]
  },
  {
   "cell_type": "code",
   "execution_count": 20,
   "metadata": {},
   "outputs": [
    {
     "data": {
      "text/plain": [
       "76"
      ]
     },
     "execution_count": 20,
     "metadata": {},
     "output_type": "execute_result"
    }
   ],
   "source": [
    "num_encoder_tokens"
   ]
  },
  {
   "cell_type": "code",
   "execution_count": 21,
   "metadata": {},
   "outputs": [],
   "source": [
    "max_encoder_seq_length=max([len(i) for i in input_texts])\n",
    "max_decoder_seq_length=max([len(i) for i in target_texts])"
   ]
  },
  {
   "cell_type": "code",
   "execution_count": 22,
   "metadata": {},
   "outputs": [
    {
     "name": "stdout",
     "output_type": "stream",
     "text": [
      "Number of samples: 20000\n",
      "Number of unique input tokens: 76\n",
      "Number of unique output tokens: 99\n",
      "Max sequence length for inputs: 18\n",
      "Max sequence length for outputs: 63\n"
     ]
    }
   ],
   "source": [
    "print('Number of samples:', len(input_texts))\n",
    "print('Number of unique input tokens:', num_encoder_tokens)\n",
    "print('Number of unique output tokens:', num_decoder_tokens)\n",
    "print('Max sequence length for inputs:', max_encoder_seq_length)\n",
    "print('Max sequence length for outputs:', max_decoder_seq_length)"
   ]
  },
  {
   "cell_type": "code",
   "execution_count": 23,
   "metadata": {},
   "outputs": [],
   "source": [
    "input_token_index=dict([(char,i) for i,char in enumerate(input_characters)])\n",
    "target_token_index=dict([(char,i) for i,char in enumerate(target_characters)])"
   ]
  },
  {
   "cell_type": "code",
   "execution_count": 24,
   "metadata": {},
   "outputs": [],
   "source": [
    "## ONE HOT REPRESENTATION\n",
    "encoder_input_data=np.zeros((len(input_texts),max_encoder_seq_length,num_encoder_tokens),dtype='float32')\n",
    "decoder_input_data=np.zeros((len(target_texts),max_decoder_seq_length,num_decoder_tokens),dtype='float32')\n",
    "decoder_target_data=np.zeros((len(target_texts),max_decoder_seq_length,num_decoder_tokens),dtype='float32')\n"
   ]
  },
  {
   "cell_type": "code",
   "execution_count": 25,
   "metadata": {},
   "outputs": [],
   "source": [
    "for i, (input_text, target_text) in enumerate(zip(input_texts, target_texts)):\n",
    "    for t, char in enumerate(input_text):\n",
    "        encoder_input_data[i, t, input_token_index[char]] = 1.\n",
    "    encoder_input_data[i, t + 1:, input_token_index[' ']] = 1.\n",
    "    for t, char in enumerate(target_text):\n",
    "        # decoder_target_data is ahead of decoder_input_data by one timestep\n",
    "        decoder_input_data[i, t, target_token_index[char]] = 1.\n",
    "        if t > 0:\n",
    "            # decoder_target_data will be ahead by one timestep\n",
    "            # and will not include the start character.\n",
    "            decoder_target_data[i, t - 1, target_token_index[char]] = 1.\n",
    "    decoder_input_data[i, t + 1:, target_token_index[' ']] = 1.\n",
    "    decoder_target_data[i, t:, target_token_index[' ']] = 1."
   ]
  },
  {
   "cell_type": "code",
   "execution_count": 26,
   "metadata": {},
   "outputs": [],
   "source": [
    "from tensorflow.keras.layers import Dense,LSTM,Input\n",
    "from tensorflow.keras.models import Model,Sequential"
   ]
  },
  {
   "cell_type": "code",
   "execution_count": 27,
   "metadata": {},
   "outputs": [],
   "source": [
    "latent_dim=256"
   ]
  },
  {
   "cell_type": "code",
   "execution_count": 45,
   "metadata": {},
   "outputs": [],
   "source": [
    "## model for train time\n",
    "\n",
    "\n",
    "\n",
    "encoded_inputs=Input(shape=(None,num_encoder_tokens))\n",
    "encoder_lstm=LSTM(latent_dim, return_state=True)\n",
    "_,state_h,state_c=encoder_lstm(encoded_inputs)\n",
    "encoded_states=[state_h,state_c]\n",
    "\n",
    "decoder_inputs=Input(shape=(None,num_decoder_tokens))\n",
    "decoder_lstm=LSTM(latent_dim,return_sequences=True,return_state=True)\n",
    "decoder_outputs,_,_=decoder_lstm(decoder_inputs,initial_state=encoded_states)\n",
    "\n",
    "decoder_dense=Dense(num_decoder_tokens,activation='softmax')\n",
    "decoder_outputs=decoder_dense(decoder_outputs)\n",
    "\n",
    "\n",
    "model=Model(inputs=[encoded_inputs,decoder_inputs],outputs=decoder_outputs)"
   ]
  },
  {
   "cell_type": "code",
   "execution_count": 46,
   "metadata": {},
   "outputs": [
    {
     "name": "stdout",
     "output_type": "stream",
     "text": [
      "Model: \"model_3\"\n",
      "__________________________________________________________________________________________________\n",
      "Layer (type)                    Output Shape         Param #     Connected to                     \n",
      "==================================================================================================\n",
      "input_17 (InputLayer)           [(None, None, 76)]   0                                            \n",
      "__________________________________________________________________________________________________\n",
      "input_18 (InputLayer)           [(None, None, 99)]   0                                            \n",
      "__________________________________________________________________________________________________\n",
      "lstm_8 (LSTM)                   [(None, 256), (None, 340992      input_17[0][0]                   \n",
      "__________________________________________________________________________________________________\n",
      "lstm_9 (LSTM)                   [(None, None, 256),  364544      input_18[0][0]                   \n",
      "                                                                 lstm_8[0][1]                     \n",
      "                                                                 lstm_8[0][2]                     \n",
      "__________________________________________________________________________________________________\n",
      "dense_3 (Dense)                 (None, None, 99)     25443       lstm_9[0][0]                     \n",
      "==================================================================================================\n",
      "Total params: 730,979\n",
      "Trainable params: 730,979\n",
      "Non-trainable params: 0\n",
      "__________________________________________________________________________________________________\n"
     ]
    }
   ],
   "source": [
    "model.summary()"
   ]
  },
  {
   "cell_type": "code",
   "execution_count": 76,
   "metadata": {},
   "outputs": [
    {
     "name": "stdout",
     "output_type": "stream",
     "text": [
      "Train on 14000 samples, validate on 6000 samples\n",
      "Epoch 1/20\n",
      "14000/14000 [==============================] - 207s 15ms/sample - loss: 0.2351 - accuracy: 0.9277 - val_loss: 0.4414 - val_accuracy: 0.8718\n",
      "Epoch 2/20\n",
      "14000/14000 [==============================] - 137s 10ms/sample - loss: 0.2263 - accuracy: 0.9306 - val_loss: 0.4386 - val_accuracy: 0.8730\n",
      "Epoch 3/20\n",
      "14000/14000 [==============================] - 137s 10ms/sample - loss: 0.2191 - accuracy: 0.9326 - val_loss: 0.4414 - val_accuracy: 0.8733\n",
      "Epoch 4/20\n",
      "14000/14000 [==============================] - 136s 10ms/sample - loss: 0.2126 - accuracy: 0.9347 - val_loss: 0.4436 - val_accuracy: 0.8734\n",
      "Epoch 5/20\n",
      "14000/14000 [==============================] - 136s 10ms/sample - loss: 0.2063 - accuracy: 0.9365 - val_loss: 0.4478 - val_accuracy: 0.8734\n",
      "Epoch 6/20\n",
      "14000/14000 [==============================] - 141s 10ms/sample - loss: 0.2002 - accuracy: 0.9384 - val_loss: 0.4467 - val_accuracy: 0.8742\n",
      "Epoch 7/20\n",
      "14000/14000 [==============================] - 138s 10ms/sample - loss: 0.1946 - accuracy: 0.9400 - val_loss: 0.4522 - val_accuracy: 0.8741\n",
      "Epoch 8/20\n",
      "14000/14000 [==============================] - 137s 10ms/sample - loss: 0.1892 - accuracy: 0.9416 - val_loss: 0.4544 - val_accuracy: 0.8739\n",
      "Epoch 9/20\n",
      "14000/14000 [==============================] - 136s 10ms/sample - loss: 0.1841 - accuracy: 0.9431 - val_loss: 0.4565 - val_accuracy: 0.8744\n",
      "Epoch 10/20\n",
      "14000/14000 [==============================] - 137s 10ms/sample - loss: 0.1791 - accuracy: 0.9446 - val_loss: 0.4621 - val_accuracy: 0.8738\n",
      "Epoch 11/20\n",
      "14000/14000 [==============================] - 136s 10ms/sample - loss: 0.1744 - accuracy: 0.9458 - val_loss: 0.4677 - val_accuracy: 0.8730\n",
      "Epoch 12/20\n",
      "14000/14000 [==============================] - 136s 10ms/sample - loss: 0.1699 - accuracy: 0.9471 - val_loss: 0.4663 - val_accuracy: 0.8752\n",
      "Epoch 13/20\n",
      "14000/14000 [==============================] - 136s 10ms/sample - loss: 0.1653 - accuracy: 0.9486 - val_loss: 0.4721 - val_accuracy: 0.8741\n",
      "Epoch 14/20\n",
      "14000/14000 [==============================] - 137s 10ms/sample - loss: 0.1613 - accuracy: 0.9498 - val_loss: 0.4770 - val_accuracy: 0.8740\n",
      "Epoch 15/20\n",
      "14000/14000 [==============================] - 137s 10ms/sample - loss: 0.1573 - accuracy: 0.9508 - val_loss: 0.4805 - val_accuracy: 0.8741\n",
      "Epoch 16/20\n",
      "14000/14000 [==============================] - 137s 10ms/sample - loss: 0.1536 - accuracy: 0.9521 - val_loss: 0.4861 - val_accuracy: 0.8739\n",
      "Epoch 17/20\n",
      "14000/14000 [==============================] - 137s 10ms/sample - loss: 0.1497 - accuracy: 0.9532 - val_loss: 0.4945 - val_accuracy: 0.8726\n",
      "Epoch 18/20\n",
      "14000/14000 [==============================] - 147s 10ms/sample - loss: 0.1461 - accuracy: 0.9543 - val_loss: 0.4929 - val_accuracy: 0.8735\n",
      "Epoch 19/20\n",
      "14000/14000 [==============================] - 157s 11ms/sample - loss: 0.1427 - accuracy: 0.9552 - val_loss: 0.4978 - val_accuracy: 0.8737\n",
      "Epoch 20/20\n",
      "14000/14000 [==============================] - 144s 10ms/sample - loss: 0.1394 - accuracy: 0.9565 - val_loss: 0.5040 - val_accuracy: 0.8729\n"
     ]
    },
    {
     "data": {
      "text/plain": [
       "<tensorflow.python.keras.callbacks.History at 0x23ed02fcef0>"
      ]
     },
     "execution_count": 76,
     "metadata": {},
     "output_type": "execute_result"
    }
   ],
   "source": [
    "model.compile(optimizer='rmsprop', loss='categorical_crossentropy',metrics=['accuracy'])\n",
    "model.fit([encoder_input_data, decoder_input_data], decoder_target_data,\n",
    "          batch_size=64,\n",
    "          epochs=20,\n",
    "          validation_split=0.3)"
   ]
  },
  {
   "cell_type": "code",
   "execution_count": 78,
   "metadata": {},
   "outputs": [],
   "source": [
    "## model during test time\n",
    "\n",
    "\n",
    "encoder_model=Model(encoded_inputs,encoded_states)\n",
    "\n",
    "decoder_state_h=Input(shape=(latent_dim,))\n",
    "decoder_state_c=Input(shape=(latent_dim,))\n",
    "decoder_states_inputs=[decoder_state_h,decoder_state_c]\n",
    "\n",
    "decoder_output,decoder_states_h,decoder_states_c=decoder_lstm(decoder_inputs,initial_state=decoder_states_inputs)\n",
    "decoded_states_outputs=[decoder_states_h,decoder_states_c]\n",
    "\n",
    "decoder_outputs=decoder_dense(decoder_output)\n",
    "\n",
    "decoder_model=Model([decoder_inputs]+decoder_states_inputs,[decoder_outputs]+decoded_states_outputs)\n",
    "\n",
    "\n",
    "\n",
    "\n",
    "\n",
    "\n",
    "\n",
    "\n",
    "\n",
    "\n"
   ]
  },
  {
   "cell_type": "code",
   "execution_count": 79,
   "metadata": {},
   "outputs": [
    {
     "name": "stdout",
     "output_type": "stream",
     "text": [
      "-\n",
      "Input sentence: Can you pitch?\n",
      "target setence: \tSais-tu donner le ton ?\n",
      "\n",
      "Decoded sentence: Savez-vous faire du ski ?\n",
      "\n",
      "-\n",
      "Input sentence: Can you pitch?\n",
      "target setence: \tSavez-vous lancer ?\n",
      "\n",
      "Decoded sentence: Savez-vous faire du ski ?\n",
      "\n",
      "-\n",
      "Input sentence: Can you pitch?\n",
      "target setence: \tSavez-vous donner le ton ?\n",
      "\n",
      "Decoded sentence: Savez-vous faire du ski ?\n",
      "\n",
      "-\n",
      "Input sentence: Can you skate?\n",
      "target setence: \tSais-tu patinerâ€¯?\n",
      "\n",
      "Decoded sentence: Savez-vous faire du ski ?\n",
      "\n",
      "-\n",
      "Input sentence: Cats are cute.\n",
      "target setence: \tLes chats sont mignons.\n",
      "\n",
      "Decoded sentence: Les chats sont mignons.\n",
      "\n"
     ]
    }
   ],
   "source": [
    "\n",
    "\n",
    "\n",
    "reverse_input_tokens=dict([(i,j) for i,j in enumerate(input_characters)])\n",
    "reverse_output_tokens=dict([(i,j) for i,j in enumerate(target_characters)])\n",
    "\n",
    "\n",
    "def decode_sequence(input_sequence):\n",
    "    state_value=encoder_model.predict(input_sequence)\n",
    "    \n",
    "    target_seq=np.zeros([1,1,num_decoder_tokens])\n",
    "    \n",
    "    target_seq[0,0,target_token_index['\\t']]==1\n",
    "    \n",
    "    \n",
    "    flag=0\n",
    "    decode_seq=''\n",
    "    \n",
    "    while flag==0:\n",
    "        output_tokens,h,c=decoder_model.predict([target_seq]+state_value)\n",
    "        sample_token_index=np.argmax(output_tokens[0,-1,:])\n",
    "        sample_char=reverse_output_tokens[sample_token_index]\n",
    "        decode_seq+=sample_char\n",
    "        \n",
    "        \n",
    "        if sample_char=='\\n' or len(decode_seq)>=max_decoder_seq_length:\n",
    "            flag=1\n",
    "            \n",
    "        target_seq=np.zeros([1,1,num_decoder_tokens])\n",
    "        \n",
    "        target_seq[0,0,target_token_index[sample_char]]=1\n",
    "        \n",
    "        state_value=[h,c]\n",
    "        \n",
    "    return decode_seq\n",
    "\n",
    "\n",
    "\n",
    "\n",
    "\n",
    "\n",
    "for seq_index in range(5000,5005):\n",
    "\n",
    "    # Take one sequence (part of the training set)\n",
    "\n",
    "    # for trying out decoding.\n",
    "\n",
    "    input_seq = encoder_input_data[seq_index: seq_index + 1]\n",
    "\n",
    "    decoded_sentence = decode_sequence(input_seq)\n",
    "    \n",
    "    print('-')\n",
    "\n",
    "    print('Input sentence:', input_texts[seq_index])\n",
    "    print('target setence:',target_texts[seq_index])\n",
    "\n",
    "    print('Decoded sentence:', decoded_sentence)"
   ]
  },
  {
   "cell_type": "code",
   "execution_count": null,
   "metadata": {},
   "outputs": [],
   "source": []
  }
 ],
 "metadata": {
  "kernelspec": {
   "display_name": "Python 3",
   "language": "python",
   "name": "python3"
  },
  "language_info": {
   "codemirror_mode": {
    "name": "ipython",
    "version": 3
   },
   "file_extension": ".py",
   "mimetype": "text/x-python",
   "name": "python",
   "nbconvert_exporter": "python",
   "pygments_lexer": "ipython3",
   "version": "3.7.1"
  }
 },
 "nbformat": 4,
 "nbformat_minor": 2
}
